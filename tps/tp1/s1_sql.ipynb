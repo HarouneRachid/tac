{
 "cells": [
  {
   "cell_type": "markdown",
   "metadata": {},
   "source": [
    "# Base de données: interroger une base de données MySQL"
   ]
  },
  {
   "cell_type": "markdown",
   "metadata": {},
   "source": [
    "## Imports"
   ]
  },
  {
   "cell_type": "code",
   "execution_count": 1,
   "metadata": {},
   "outputs": [],
   "source": [
    "import os\n",
    "import sqlite3\n",
    "import zipfile\n",
    "from pathlib import Path\n",
    "import requests\n",
    "\n",
    "# Créer un dossier data s'il n'existe pas encore\n",
    "if not os.path.exists(\"../data\"):\n",
    "    os.mkdir(\"../data\")"
   ]
  },
  {
   "cell_type": "markdown",
   "metadata": {},
   "source": [
    "## Créer une base de données SQLite"
   ]
  },
  {
   "cell_type": "code",
   "execution_count": 2,
   "metadata": {},
   "outputs": [],
   "source": [
    "# Créer un répertoire DB s'il n'existe pas encore\n",
    "db_path = '../data/db'\n",
    "if not os.path.exists(db_path):\n",
    "    os.mkdir(db_path)"
   ]
  },
  {
   "cell_type": "code",
   "execution_count": 11,
   "metadata": {},
   "outputs": [],
   "source": [
    "# Récupérer le fichier ZIP qui contient la DB de test\n",
    "url = \"https://uv.ulb.ac.be/mod/resource/view.php?id=1523394\"\n",
    "filename = url.split(\"/\")[-1]\n",
    "# Récupérer le fichier zip dans la RAM\n",
    "response = requests.get(url)"
   ]
  },
  {
   "cell_type": "code",
   "execution_count": 12,
   "metadata": {},
   "outputs": [],
   "source": [
    "# Ecrire le fichier sur le disque\n",
    "with open(os.path.join(db_path, filename), 'wb') as f:\n",
    "    f.write(response.content)"
   ]
  },
  {
   "cell_type": "code",
   "execution_count": 13,
   "metadata": {},
   "outputs": [
    {
     "ename": "BadZipFile",
     "evalue": "File is not a zip file",
     "output_type": "error",
     "traceback": [
      "\u001b[31m---------------------------------------------------------------------------\u001b[39m",
      "\u001b[31mBadZipFile\u001b[39m                                Traceback (most recent call last)",
      "\u001b[36mCell\u001b[39m\u001b[36m \u001b[39m\u001b[32mIn[13]\u001b[39m\u001b[32m, line 2\u001b[39m\n\u001b[32m      1\u001b[39m \u001b[38;5;66;03m# Extraire le zip pour obtenir la db\u001b[39;00m\n\u001b[32m----> \u001b[39m\u001b[32m2\u001b[39m \u001b[38;5;28;01mwith\u001b[39;00m \u001b[43mzipfile\u001b[49m\u001b[43m.\u001b[49m\u001b[43mZipFile\u001b[49m\u001b[43m(\u001b[49m\u001b[43mos\u001b[49m\u001b[43m.\u001b[49m\u001b[43mpath\u001b[49m\u001b[43m.\u001b[49m\u001b[43mjoin\u001b[49m\u001b[43m(\u001b[49m\u001b[43mdb_path\u001b[49m\u001b[43m,\u001b[49m\u001b[43m \u001b[49m\u001b[43mfilename\u001b[49m\u001b[43m)\u001b[49m\u001b[43m,\u001b[49m\u001b[43m \u001b[49m\u001b[33;43m'\u001b[39;49m\u001b[33;43mr\u001b[39;49m\u001b[33;43m'\u001b[39;49m\u001b[43m)\u001b[49m \u001b[38;5;28;01mas\u001b[39;00m zip_ref:\n\u001b[32m      3\u001b[39m     zip_ref.extractall(db_path)\n",
      "\u001b[36mFile \u001b[39m\u001b[32m/usr/lib/python3.11/zipfile.py:1302\u001b[39m, in \u001b[36mZipFile.__init__\u001b[39m\u001b[34m(self, file, mode, compression, allowZip64, compresslevel, strict_timestamps, metadata_encoding)\u001b[39m\n\u001b[32m   1300\u001b[39m \u001b[38;5;28;01mtry\u001b[39;00m:\n\u001b[32m   1301\u001b[39m     \u001b[38;5;28;01mif\u001b[39;00m mode == \u001b[33m'\u001b[39m\u001b[33mr\u001b[39m\u001b[33m'\u001b[39m:\n\u001b[32m-> \u001b[39m\u001b[32m1302\u001b[39m         \u001b[38;5;28;43mself\u001b[39;49m\u001b[43m.\u001b[49m\u001b[43m_RealGetContents\u001b[49m\u001b[43m(\u001b[49m\u001b[43m)\u001b[49m\n\u001b[32m   1303\u001b[39m     \u001b[38;5;28;01melif\u001b[39;00m mode \u001b[38;5;129;01min\u001b[39;00m (\u001b[33m'\u001b[39m\u001b[33mw\u001b[39m\u001b[33m'\u001b[39m, \u001b[33m'\u001b[39m\u001b[33mx\u001b[39m\u001b[33m'\u001b[39m):\n\u001b[32m   1304\u001b[39m         \u001b[38;5;66;03m# set the modified flag so central directory gets written\u001b[39;00m\n\u001b[32m   1305\u001b[39m         \u001b[38;5;66;03m# even if no files are added to the archive\u001b[39;00m\n\u001b[32m   1306\u001b[39m         \u001b[38;5;28mself\u001b[39m._didModify = \u001b[38;5;28;01mTrue\u001b[39;00m\n",
      "\u001b[36mFile \u001b[39m\u001b[32m/usr/lib/python3.11/zipfile.py:1369\u001b[39m, in \u001b[36mZipFile._RealGetContents\u001b[39m\u001b[34m(self)\u001b[39m\n\u001b[32m   1367\u001b[39m     \u001b[38;5;28;01mraise\u001b[39;00m BadZipFile(\u001b[33m\"\u001b[39m\u001b[33mFile is not a zip file\u001b[39m\u001b[33m\"\u001b[39m)\n\u001b[32m   1368\u001b[39m \u001b[38;5;28;01mif\u001b[39;00m \u001b[38;5;129;01mnot\u001b[39;00m endrec:\n\u001b[32m-> \u001b[39m\u001b[32m1369\u001b[39m     \u001b[38;5;28;01mraise\u001b[39;00m BadZipFile(\u001b[33m\"\u001b[39m\u001b[33mFile is not a zip file\u001b[39m\u001b[33m\"\u001b[39m)\n\u001b[32m   1370\u001b[39m \u001b[38;5;28;01mif\u001b[39;00m \u001b[38;5;28mself\u001b[39m.debug > \u001b[32m1\u001b[39m:\n\u001b[32m   1371\u001b[39m     \u001b[38;5;28mprint\u001b[39m(endrec)\n",
      "\u001b[31mBadZipFile\u001b[39m: File is not a zip file"
     ]
    }
   ],
   "source": [
    "# Extraire le zip pour obtenir la db\n",
    "with zipfile.ZipFile(os.path.join(db_path, filename), 'r') as zip_ref:\n",
    "    zip_ref.extractall(db_path)"
   ]
  },
  {
   "cell_type": "markdown",
   "metadata": {},
   "source": [
    "## Schéma de la base de données\n",
    "\n",
    "<img src=\"https://www.sqlitetutorial.net/wp-content/uploads/2015/11/sqlite-sample-database-color.jpg\" />"
   ]
  },
  {
   "cell_type": "markdown",
   "metadata": {},
   "source": [
    "## Se connecter à la base de données"
   ]
  },
  {
   "cell_type": "code",
   "execution_count": 6,
   "metadata": {},
   "outputs": [],
   "source": [
    "conn = sqlite3.connect(os.path.join(db_path, \"chinook.db\"))\n",
    "c = conn.cursor()"
   ]
  },
  {
   "cell_type": "markdown",
   "metadata": {},
   "source": [
    "## Trouver l'identifiant de Miles Davis"
   ]
  },
  {
   "cell_type": "code",
   "execution_count": 7,
   "metadata": {
    "tags": []
   },
   "outputs": [
    {
     "name": "stdout",
     "output_type": "stream",
     "text": [
      "68\n"
     ]
    }
   ],
   "source": [
    "artist = 'Miles Davis'\n",
    "\n",
    "query1 = f\"\"\"\n",
    "    SELECT\n",
    "        artistId\n",
    "    FROM\n",
    "        artists\n",
    "    WHERE\n",
    "        name = '{artist}';\n",
    "\"\"\"\n",
    "c.execute(query1)\n",
    "artist_id = c.fetchone()[0]\n",
    "\n",
    "print(artist_id)"
   ]
  },
  {
   "cell_type": "markdown",
   "metadata": {},
   "source": [
    "## Trouver les identifiants d'albums de Miles Davis"
   ]
  },
  {
   "cell_type": "code",
   "execution_count": 8,
   "metadata": {
    "tags": []
   },
   "outputs": [
    {
     "name": "stdout",
     "output_type": "stream",
     "text": [
      "['48', '49', '157']\n"
     ]
    }
   ],
   "source": [
    "query2 = f\"\"\"\n",
    "    SELECT\n",
    "        albumId\n",
    "    FROM \n",
    "        albums \n",
    "    WHERE \n",
    "        artistId = '{artist_id}';\n",
    "\"\"\"\n",
    "albums_ids = []\n",
    "for row in c.execute(query2):\n",
    "    albums_ids.append(str(row[0]))\n",
    "\n",
    "print(albums_ids)"
   ]
  },
  {
   "cell_type": "markdown",
   "metadata": {},
   "source": [
    "## Trouver les morceaux des albums de Miles Davis"
   ]
  },
  {
   "cell_type": "code",
   "execution_count": 9,
   "metadata": {
    "tags": []
   },
   "outputs": [
    {
     "name": "stdout",
     "output_type": "stream",
     "text": [
      "\n",
      "36 distinct songs found:\n",
      "\n",
      "'Round Midnight\n",
      "Black Satin\n",
      "Blues For Pablo\n",
      "Blues For Pablo (Alternate Take)\n",
      "Bye Bye Blackbird\n",
      "Compulsion\n",
      "E.S.P.\n",
      "Generique\n",
      "I Don't Wanna Be Kissed (By Anyone But You)\n",
      "I Don't Wanna Be Kissed (By Anyone But You) (Alternate Take)\n",
      "Jean Pierre (Live)\n",
      "Jeru\n",
      "Lament\n",
      "Little Church (Live)\n",
      "Miles Ahead\n",
      "Miles Runs The Voodoo Down\n",
      "My Funny Valentine (Live)\n",
      "My Ship\n",
      "Nefertiti\n",
      "New Rhumba\n",
      "Now's The Time\n",
      "Petits Machins (Little Stuff)\n",
      "Portia\n",
      "So What\n",
      "Someday My Prince Will Come\n",
      "Springsville\n",
      "Springsville (Alternate Take)\n",
      "Summertime\n",
      "Tempus Fugit\n",
      "The Duke\n",
      "The Maids Of Cadiz\n",
      "The Meaning Of The Blues\n",
      "The Meaning Of The Blues/Lament (Alternate Take)\n",
      "The Pan Piper\n",
      "Time After Time\n",
      "Walkin'\n"
     ]
    }
   ],
   "source": [
    "query3 = f\"\"\"\n",
    "    SELECT\n",
    "        name,\n",
    "        albumId\n",
    "    FROM\n",
    "        tracks\n",
    "    WHERE \n",
    "        albumId IN ({\",\".join(albums_ids)});\n",
    "\"\"\"\n",
    "\n",
    "songs = set()\n",
    "for row in c.execute(query3):\n",
    "    songs.add(row[0])\n",
    "\n",
    "print(f\"\\n{len(songs)} distinct songs found:\\n\")\n",
    "for song in sorted(songs):\n",
    "    print(song)"
   ]
  },
  {
   "cell_type": "markdown",
   "metadata": {},
   "source": [
    "## En une seule requête..."
   ]
  },
  {
   "cell_type": "code",
   "execution_count": 10,
   "metadata": {},
   "outputs": [
    {
     "name": "stdout",
     "output_type": "stream",
     "text": [
      "\n",
      "36 distinct songs found:\n",
      "\n",
      "'Round Midnight\n",
      "Black Satin\n",
      "Blues For Pablo\n",
      "Blues For Pablo (Alternate Take)\n",
      "Bye Bye Blackbird\n",
      "Compulsion\n",
      "E.S.P.\n",
      "Generique\n",
      "I Don't Wanna Be Kissed (By Anyone But You)\n",
      "I Don't Wanna Be Kissed (By Anyone But You) (Alternate Take)\n",
      "Jean Pierre (Live)\n",
      "Jeru\n",
      "Lament\n",
      "Little Church (Live)\n",
      "Miles Ahead\n",
      "Miles Runs The Voodoo Down\n",
      "My Funny Valentine (Live)\n",
      "My Ship\n",
      "Nefertiti\n",
      "New Rhumba\n",
      "Now's The Time\n",
      "Petits Machins (Little Stuff)\n",
      "Portia\n",
      "So What\n",
      "Someday My Prince Will Come\n",
      "Springsville\n",
      "Springsville (Alternate Take)\n",
      "Summertime\n",
      "Tempus Fugit\n",
      "The Duke\n",
      "The Maids Of Cadiz\n",
      "The Meaning Of The Blues\n",
      "The Meaning Of The Blues/Lament (Alternate Take)\n",
      "The Pan Piper\n",
      "Time After Time\n",
      "Walkin'\n"
     ]
    }
   ],
   "source": [
    "query4 = f\"\"\"\n",
    "    SELECT\n",
    "        tracks.name,\n",
    "        tracks.albumId\n",
    "    FROM\n",
    "        artists\n",
    "        JOIN albums ON artists.artistId = albums.artistId\n",
    "        JOIN tracks ON albums.albumId = tracks.albumId\n",
    "    WHERE \n",
    "        artists.name = '{artist}';\n",
    "\"\"\"\n",
    "\n",
    "songs = set()\n",
    "for row in c.execute(query4):\n",
    "    songs.add(row[0])\n",
    "\n",
    "print(f\"\\n{len(songs)} distinct songs found:\\n\")\n",
    "for song in sorted(songs):\n",
    "    print(song)"
   ]
  },
  {
   "cell_type": "markdown",
   "metadata": {},
   "source": [
    "## Pour en savoir plus"
   ]
  },
  {
   "cell_type": "markdown",
   "metadata": {},
   "source": [
    "- [Tutoriel SQLite](https://www.sqlitetutorial.net/)\n",
    "- [The SQL cheat sheet](https://www.sqltutorial.org/wp-content/uploads/2016/04/SQL-cheat-sheet.pdf)"
   ]
  }
 ],
 "metadata": {
  "kernelspec": {
   "display_name": "tac_venv",
   "language": "python",
   "name": "python3"
  },
  "language_info": {
   "codemirror_mode": {
    "name": "ipython",
    "version": 3
   },
   "file_extension": ".py",
   "mimetype": "text/x-python",
   "name": "python",
   "nbconvert_exporter": "python",
   "pygments_lexer": "ipython3",
   "version": "3.11.2"
  }
 },
 "nbformat": 4,
 "nbformat_minor": 4
}
