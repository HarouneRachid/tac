{
 "cells": [
  {
   "cell_type": "markdown",
   "metadata": {},
   "source": [
    "# APIs: requêtes HTTP"
   ]
  },
  {
   "cell_type": "markdown",
   "metadata": {},
   "source": [
    "## Imports"
   ]
  },
  {
   "cell_type": "code",
   "execution_count": 5,
   "metadata": {},
   "outputs": [],
   "source": [
    "import json\n",
    "import urllib.request"
   ]
  },
  {
   "cell_type": "markdown",
   "metadata": {},
   "source": [
    "## Lister la liste des articles"
   ]
  },
  {
   "cell_type": "code",
   "execution_count": 3,
   "metadata": {},
   "outputs": [
    {
     "name": "stdout",
     "output_type": "stream",
     "text": [
      "Title: Diwali In Shanghai: Indian Consulate Celebrates Festival Of Lights With Culture And Cuisine\n",
      "Description: An example of Diwali’s international reach was seen in Shanghai, eastern China, where the Indian Consulate and the Indian Association Shanghai jointly organised the region’s largest Diwali celebration.\n"
     ]
    }
   ],
   "source": [
    "# Ma clé pour la connexion\n",
    "apikey = \"c28efbbef1fdc46e88bddd2086dd44bd\"\n",
    "\n",
    "# Url \n",
    "url = f\"https://gnews.io/api/v4/search?q=example&lang=en&max=10&apikey={apikey}\"\n",
    "\n",
    "with urllib.request.urlopen(url) as response:\n",
    "    data = json.loads(response.read().decode(\"utf-8\"))\n",
    "    articles = data[\"articles\"]\n",
    "\n",
    "    for i in range(len(articles)):\n",
    "        # articles[i].title\n",
    "        print(f\"Title: {articles[i]['title']}\")\n",
    "        # articles[i].description\n",
    "        print(f\"Description: {articles[i]['description']}\")\n",
    "        break"
   ]
  },
  {
   "cell_type": "markdown",
   "metadata": {},
   "source": [
    "## Utiliser REST Countries pour récupérer des informations sur un pays"
   ]
  },
  {
   "cell_type": "markdown",
   "metadata": {},
   "source": [
    "https://restcountries.com/"
   ]
  },
  {
   "cell_type": "code",
   "execution_count": 9,
   "metadata": {},
   "outputs": [],
   "source": [
    "# Ma clé pour la connexion\n",
    "apikey = \"c28efbbef1fdc46e88bddd2086dd44bd\"\n",
    "\n",
    "# Pays\n",
    "\n",
    "pays = \"fr\"\n",
    "\n",
    "# Langue\n",
    "\n",
    "langue = \"fr\"\n",
    "\n",
    "# Url \n",
    "url = f\"https://gnews.io/api/v4/search?q=example&lang=fr&country=fr&max=10&apikey={apikey}\"\n",
    "\n",
    "with urllib.request.urlopen(url) as response:\n",
    "    data = json.loads(response.read().decode(\"utf-8\"))\n",
    "    articles = data[\"articles\"]\n",
    "\n",
    "    for i in range(len(articles)):\n",
    "        # articles[i].title\n",
    "        print(f\"Title: {articles[i]['title']}\")\n",
    "        # articles[i].description\n",
    "        print(f\"Description: {articles[i]['description']}\")\n",
    "        break"
   ]
  },
  {
   "cell_type": "markdown",
   "metadata": {},
   "source": [
    "## Pour en savoir plus"
   ]
  },
  {
   "cell_type": "markdown",
   "metadata": {},
   "source": [
    "- Les API Rest: https://towardsdatascience.com/introduction-to-rest-apis-90b5d9676004\n",
    "- La librairie [`requests`](https://requests.readthedocs.io/en/latest/)\n",
    "- Développer une API en Python : https://openclassrooms.com/en/courses/4525361-realisez-un-dashboard-avec-tableau/5774811-creez-une-api-avec-flask"
   ]
  }
 ],
 "metadata": {
  "kernelspec": {
   "display_name": "tac_venv",
   "language": "python",
   "name": "python3"
  },
  "language_info": {
   "codemirror_mode": {
    "name": "ipython",
    "version": 3
   },
   "file_extension": ".py",
   "mimetype": "text/x-python",
   "name": "python",
   "nbconvert_exporter": "python",
   "pygments_lexer": "ipython3",
   "version": "3.11.2"
  }
 },
 "nbformat": 4,
 "nbformat_minor": 4
}
