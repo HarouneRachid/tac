{
 "cells": [
  {
   "cell_type": "markdown",
   "metadata": {},
   "source": [
    "# Scraping: récupération de la page d'accueil de la RTBF\n",
    "\n",
    "Dans ce notebook, nous créons un robot qui va ouvrir la page d'accueil du site du journal [La RTBF](https://www.rtbf.be/) et récupérer le titre de tous les articles du jour et les stocker dans un fichier csv."
   ]
  },
  {
   "cell_type": "markdown",
   "metadata": {},
   "source": [
    "## Imports"
   ]
  },
  {
   "cell_type": "code",
   "execution_count": 1,
   "metadata": {},
   "outputs": [],
   "source": [
    "import os\n",
    "import re\n",
    "import time\n",
    "import requests\n",
    "from bs4 import BeautifulSoup\n",
    "import pandas as pd"
   ]
  },
  {
   "cell_type": "markdown",
   "metadata": {},
   "source": [
    "## Récupération de tous les articles de la page d'accueil\n",
    "\n"
   ]
  },
  {
   "cell_type": "code",
   "execution_count": 2,
   "metadata": {},
   "outputs": [],
   "source": [
    "headers = {'User-Agent': 'Mozilla/5.0 (Macintosh; Intel Mac OS X 10_10_1) AppleWebKit/537.36 (KHTML, like Gecko) Chrome/39.0.2171.95 Safari/537.36'}\n",
    "\n",
    "articles = []\n",
    "\n",
    "root_url = f\"https://www.rtbf.be\"\n",
    "response = requests.get(root_url, headers=headers)\n",
    "soup = BeautifulSoup(response.text, 'html.parser')\n",
    "for link in soup.find_all(\"a\", {\"class\":\"stretched-link outline-hidden\"}):\n",
    "    title = link.text.strip()\n",
    "    url = root_url + link.get('href')\n",
    "    articles.append([url, title])"
   ]
  },
  {
   "cell_type": "code",
   "execution_count": 3,
   "metadata": {},
   "outputs": [
    {
     "data": {
      "text/plain": [
       "80"
      ]
     },
     "execution_count": 3,
     "metadata": {},
     "output_type": "execute_result"
    }
   ],
   "source": [
    "# Affichage du nombre d'articles récupérés\n",
    "len(articles)"
   ]
  },
  {
   "cell_type": "code",
   "execution_count": 4,
   "metadata": {},
   "outputs": [
    {
     "data": {
      "text/plain": [
       "[['https://www.rtbf.be/article/la-cgsp-annonce-une-greve-dans-les-services-publics-le-25-novembre-11616272',\n",
       "  'La CGSP annonce une grève dans les services publics le 25\\xa0novembre'],\n",
       " ['https://www.rtbf.be/article/nouvel-episode-de-la-saga-thiam-athletiek-vlaanderen-se-dit-pret-a-aller-au-tribunal-jusqu-au-bout-meme-11616379',\n",
       "  'Nouvel épisode de la saga Thiam\\xa0: Athletiek Vlaanderen se dit prêt à \"aller au tribunal, jusqu’au bout même\"'],\n",
       " ['https://www.rtbf.be/article/guerre-israel-gaza-la-paix-et-maintenant-la-suite-du-plan-trump-sous-d-epais-nuages-de-questions-11615936',\n",
       "  'Guerre Israël-Gaza\\xa0: la paix, et maintenant\\xa0? La suite du plan Trump sous d’épais nuages de questions'],\n",
       " ['https://www.rtbf.be/article/the-voice-kids-saison-3-suivez-le-premier-blind-en-direct-11616127',\n",
       "  'The Voice Kids saison 3 : suivez le premier blind en direct'],\n",
       " ['https://www.rtbf.be/article/raphael-collignon-apres-sa-victoire-sur-son-pote-zizou-bergs-je-vis-des-beaux-moments-depuis-deux-mois-11616396',\n",
       "  'Raphaël Collignon après sa victoire sur \\'son pote\\' Zizou Bergs : \"Je vis des beaux moments depuis deux mois\"'],\n",
       " ['https://www.rtbf.be/article/manifestation-nationale-entre-80-000-et-140-000-manifestants-dans-les-rues-de-bruxelles-11616057',\n",
       "  'Manifestation nationale\\xa0: entre 80.000 et 140.000 manifestants dans les rues de Bruxelles, quelques incidents à signaler'],\n",
       " ['https://www.rtbf.be/article/coupe-du-monde-2026-l-angleterre-premiere-nation-europeenne-qualifiee-l-italie-assure-le-portugal-accroche-malgre-un-record-pour-cr7-11616382',\n",
       "  'Coupe du monde 2026\\xa0: l’Angleterre première nation européenne qualifiée, l’Italie assure, le Portugal accroché malgré un record pour CR7'],\n",
       " ['https://www.rtbf.be/article/france-le-president-emmanuel-macron-dissoudra-l-assemblee-si-le-premier-ministre-sebastien-lecornu-est-censure-11616122',\n",
       "  \"Vers une nouvelle dissolution de l'Assemblée Nationale en France\\xa0? Si le gouvernement Lecornu est censuré, Emmanuel Macron renverra aux urnes\"],\n",
       " ['https://www.rtbf.be/article/dix-ans-apres-sa-creation-l-asbl-made-in-bw-fait-aveu-de-faillite-11616280',\n",
       "  'Dix ans après sa création, l’asbl \"Made in BW\" fait aveu de faillite'],\n",
       " ['https://www.rtbf.be/article/voix-incroyables-et-coachs-survoltes-les-moments-marquants-des-premiers-blinds-de-la-saison-3-de-the-voice-kids-11616112',\n",
       "  'Voix incroyables et coachs survoltés : récap de la première soirée des Blinds de la saison 3 de The Voice Kids']]"
      ]
     },
     "execution_count": 4,
     "metadata": {},
     "output_type": "execute_result"
    }
   ],
   "source": [
    "# Affichage des 10 premières entrées\n",
    "articles[:10]"
   ]
  },
  {
   "cell_type": "markdown",
   "metadata": {},
   "source": [
    "## Création d'un dataframe avec les liens et les titres des articles\n"
   ]
  },
  {
   "cell_type": "code",
   "execution_count": 5,
   "metadata": {},
   "outputs": [
    {
     "data": {
      "text/html": [
       "<div>\n",
       "<style scoped>\n",
       "    .dataframe tbody tr th:only-of-type {\n",
       "        vertical-align: middle;\n",
       "    }\n",
       "\n",
       "    .dataframe tbody tr th {\n",
       "        vertical-align: top;\n",
       "    }\n",
       "\n",
       "    .dataframe thead th {\n",
       "        text-align: right;\n",
       "    }\n",
       "</style>\n",
       "<table border=\"1\" class=\"dataframe\">\n",
       "  <thead>\n",
       "    <tr style=\"text-align: right;\">\n",
       "      <th></th>\n",
       "      <th>link</th>\n",
       "      <th>title</th>\n",
       "    </tr>\n",
       "  </thead>\n",
       "  <tbody>\n",
       "    <tr>\n",
       "      <th>0</th>\n",
       "      <td>https://www.rtbf.be/article/la-cgsp-annonce-un...</td>\n",
       "      <td>La CGSP annonce une grève dans les services pu...</td>\n",
       "    </tr>\n",
       "    <tr>\n",
       "      <th>1</th>\n",
       "      <td>https://www.rtbf.be/article/nouvel-episode-de-...</td>\n",
       "      <td>Nouvel épisode de la saga Thiam : Athletiek Vl...</td>\n",
       "    </tr>\n",
       "    <tr>\n",
       "      <th>2</th>\n",
       "      <td>https://www.rtbf.be/article/guerre-israel-gaza...</td>\n",
       "      <td>Guerre Israël-Gaza : la paix, et maintenant ? ...</td>\n",
       "    </tr>\n",
       "    <tr>\n",
       "      <th>3</th>\n",
       "      <td>https://www.rtbf.be/article/the-voice-kids-sai...</td>\n",
       "      <td>The Voice Kids saison 3 : suivez le premier bl...</td>\n",
       "    </tr>\n",
       "    <tr>\n",
       "      <th>4</th>\n",
       "      <td>https://www.rtbf.be/article/raphael-collignon-...</td>\n",
       "      <td>Raphaël Collignon après sa victoire sur 'son p...</td>\n",
       "    </tr>\n",
       "    <tr>\n",
       "      <th>...</th>\n",
       "      <td>...</td>\n",
       "      <td>...</td>\n",
       "    </tr>\n",
       "    <tr>\n",
       "      <th>75</th>\n",
       "      <td>https://www.rtbf.behttps://auvio.rtbf.be/media...</td>\n",
       "      <td>Les Niouzz</td>\n",
       "    </tr>\n",
       "    <tr>\n",
       "      <th>76</th>\n",
       "      <td>https://www.rtbf.behttps://auvio.rtbf.be/media...</td>\n",
       "      <td>Demain nous appartient</td>\n",
       "    </tr>\n",
       "    <tr>\n",
       "      <th>77</th>\n",
       "      <td>https://www.rtbf.behttps://auvio.rtbf.be/media...</td>\n",
       "      <td>Tarmac Comedy</td>\n",
       "    </tr>\n",
       "    <tr>\n",
       "      <th>78</th>\n",
       "      <td>https://www.rtbf.behttps://auvio.rtbf.be/media...</td>\n",
       "      <td>Ici tout commence</td>\n",
       "    </tr>\n",
       "    <tr>\n",
       "      <th>79</th>\n",
       "      <td>https://www.rtbf.behttps://auvio.rtbf.be/media...</td>\n",
       "      <td>Venise, les défis hors normes des bâtisseurs</td>\n",
       "    </tr>\n",
       "  </tbody>\n",
       "</table>\n",
       "<p>80 rows × 2 columns</p>\n",
       "</div>"
      ],
      "text/plain": [
       "                                                 link  \\\n",
       "0   https://www.rtbf.be/article/la-cgsp-annonce-un...   \n",
       "1   https://www.rtbf.be/article/nouvel-episode-de-...   \n",
       "2   https://www.rtbf.be/article/guerre-israel-gaza...   \n",
       "3   https://www.rtbf.be/article/the-voice-kids-sai...   \n",
       "4   https://www.rtbf.be/article/raphael-collignon-...   \n",
       "..                                                ...   \n",
       "75  https://www.rtbf.behttps://auvio.rtbf.be/media...   \n",
       "76  https://www.rtbf.behttps://auvio.rtbf.be/media...   \n",
       "77  https://www.rtbf.behttps://auvio.rtbf.be/media...   \n",
       "78  https://www.rtbf.behttps://auvio.rtbf.be/media...   \n",
       "79  https://www.rtbf.behttps://auvio.rtbf.be/media...   \n",
       "\n",
       "                                                title  \n",
       "0   La CGSP annonce une grève dans les services pu...  \n",
       "1   Nouvel épisode de la saga Thiam : Athletiek Vl...  \n",
       "2   Guerre Israël-Gaza : la paix, et maintenant ? ...  \n",
       "3   The Voice Kids saison 3 : suivez le premier bl...  \n",
       "4   Raphaël Collignon après sa victoire sur 'son p...  \n",
       "..                                                ...  \n",
       "75                                         Les Niouzz  \n",
       "76                             Demain nous appartient  \n",
       "77                                      Tarmac Comedy  \n",
       "78                                  Ici tout commence  \n",
       "79       Venise, les défis hors normes des bâtisseurs  \n",
       "\n",
       "[80 rows x 2 columns]"
      ]
     },
     "execution_count": 5,
     "metadata": {},
     "output_type": "execute_result"
    }
   ],
   "source": [
    "df = pd.DataFrame(articles, columns=['link', 'title'])\n",
    "df"
   ]
  },
  {
   "cell_type": "code",
   "execution_count": 6,
   "metadata": {},
   "outputs": [],
   "source": [
    "# Sauvegarde du dataframe dans un fichier csv\n",
    "df.to_csv(f\"../data/rtbf_{time.strftime('%Y%m%d')}.csv\", index=False)"
   ]
  },
  {
   "cell_type": "markdown",
   "metadata": {},
   "source": [
    "## Téléchargement d'un article et affichage du texte"
   ]
  },
  {
   "cell_type": "code",
   "execution_count": 7,
   "metadata": {},
   "outputs": [
    {
     "name": "stdout",
     "output_type": "stream",
     "text": [
      "La CGSP annonce une grève dans les services publics le 25 novembre\n",
      "==================================\n",
      "Le syndicat socialiste des services publics, la CGSP,  annonce une nouvelle mobilisation  après celle de ce 14 octobre. Il s’agira d’une journée de grève pour la CGSP, précise Mme Reniers.\n",
      "Les actions viseront à dénoncer les mesures gouvernementales qui concernent les fonctionnaires, notamment la réforme des pensions.\n",
      "Les employés du service public devront faire plus de concessions, assure-t-elle. \" Nous avons consacré beaucoup de temps aux négociations, mais nous n’avons pas constaté de concession concrète en réponse à nos demandes \", précise la syndicaliste.\n",
      "La CGSP estime qu’il y a trop peu d’investissements dans les services publics . \" Il s’agit de services qui nécessitent beaucoup de personnel, non seulement dans le secteur des soins de santé, mais aussi dans l’enseignement, les prisons, les pompiers et la police, entre autres \", explique Mme Reiners. Elle déplore des choix qui \" consistent à réduire au minimum les services publics et le personnel \".\n",
      "Le syndicat libéral SLFP doit encore décider en interne s'il participera à la journée d'actions, a indiqué son président Patrick Roijens.\n",
      "Quant à la CSC, le comité national se prononcera jeudi, a affirmé le vice-président de la CSC Services publics, Stéphane Deldicque.\n",
      "Mots clés de l'article\n",
      "Copyright ©  2025  RTBF\n"
     ]
    }
   ],
   "source": [
    "# Récupération du premier lien du dataframe\n",
    "article_url = df.iloc[0][0]\n",
    "\n",
    "# Ouverture de la page\n",
    "response = requests.get(article_url, headers=headers)\n",
    "soup = BeautifulSoup(response.content, 'html.parser')\n",
    "# Parsing du contenu\n",
    "title = soup.find(\"h1\").get_text(separator=' ')\n",
    "\n",
    "paragraphs = []\n",
    "for paragraph in soup.find_all(\"p\", attrs={\"class\": None}):\n",
    "    paragraphs.append(paragraph.get_text(separator=' ').strip())\n",
    "\n",
    "content = \"\\n\".join(paragraphs)\n",
    "print(title)\n",
    "print(\"==================================\")\n",
    "print(content)"
   ]
  },
  {
   "cell_type": "markdown",
   "metadata": {},
   "source": [
    "### Nettoyage du texte à l'aide d'expressions régulières"
   ]
  },
  {
   "cell_type": "code",
   "execution_count": 8,
   "metadata": {},
   "outputs": [
    {
     "name": "stdout",
     "output_type": "stream",
     "text": [
      "Le syndicat socialiste des services publics, la CGSP,  annonce une nouvelle mobilisation  après celle de ce 14 octobre. Il s’agira d’une journée de grève pour la CGSP, précise Mme Reniers.\n",
      "Les actions viseront à dénoncer les mesures gouvernementales qui concernent les fonctionnaires, notamment la réforme des pensions.\n",
      "Les employés du service public devront faire plus de concessions, assure-t-elle. \" Nous avons consacré beaucoup de temps aux négociations, mais nous n’avons pas constaté de concession concrète en réponse à nos demandes \", précise la syndicaliste.\n",
      "La CGSP estime qu’il y a trop peu d’investissements dans les services publics . \" Il s’agit de services qui nécessitent beaucoup de personnel, non seulement dans le secteur des soins de santé, mais aussi dans l’enseignement, les prisons, les pompiers et la police, entre autres \", explique Mme Reiners. Elle déplore des choix qui \" consistent à réduire au minimum les services publics et le personnel \".\n",
      "Le syndicat libéral SLFP doit encore décider en interne s'il participera à la journée d'actions, a indiqué son président Patrick Roijens.\n",
      "Quant à la CSC, le comité national se prononcera jeudi, a affirmé le vice-président de la CSC Services publics, Stéphane Deldicque.\n",
      "Mots clés de l'article\n",
      "Copyright ©  2025  RTBF\n",
      "==================================\n",
      "Le syndicat socialiste des services publics, la CGSP, annonce une nouvelle mobilisation après celle de ce 14 octobre. Il s’agira d’une journée de grève pour la CGSP, précise Mme Reniers. Les actions viseront à dénoncer les mesures gouvernementales qui concernent les fonctionnaires, notamment la réforme des pensions. Les employés du service public devront faire plus de concessions, assure-t-elle. \" Nous avons consacré beaucoup de temps aux négociations, mais nous n’avons pas constaté de concession concrète en réponse à nos demandes \", précise la syndicaliste. La CGSP estime qu’il y a trop peu d’investissements dans les services publics . \" Il s’agit de services qui nécessitent beaucoup de personnel, non seulement dans le secteur des soins de santé, mais aussi dans l’enseignement, les prisons, les pompiers et la police, entre autres \", explique Mme Reiners. Elle déplore des choix qui \" consistent à réduire au minimum les services publics et le personnel \". Le syndicat libéral SLFP doit encore décider en interne s'il participera à la journée d'actions, a indiqué son président Patrick Roijens. Quant à la CSC, le comité national se prononcera jeudi, a affirmé le vice-président de la CSC Services publics, Stéphane Deldicque. Mots clés de l'article Copyright © 2025 RTBF\n"
     ]
    }
   ],
   "source": [
    "# Suppression de tout ce qui se trouve entre parenthèses\n",
    "clean_content = re.sub(\"\\([^\\)]+\\)\", \" \", content)\n",
    "# Suppression des espaces multiples\n",
    "clean_content = re.sub(\"\\s+\", \" \", clean_content)\n",
    "\n",
    "print(content)\n",
    "print(\"==================================\")\n",
    "print(clean_content)\n"
   ]
  },
  {
   "cell_type": "markdown",
   "metadata": {},
   "source": [
    "### Création d'un fichier avec le contenu de l'article\n"
   ]
  },
  {
   "cell_type": "code",
   "execution_count": 9,
   "metadata": {},
   "outputs": [],
   "source": [
    "with open(\"../data/rtbf_example.txt\", \"w\") as writer:\n",
    "    writer.write(f\"{title}\\n\\n{clean_content}\")"
   ]
  },
  {
   "cell_type": "markdown",
   "metadata": {},
   "source": [
    "## Pour en savoir plus"
   ]
  },
  {
   "cell_type": "markdown",
   "metadata": {},
   "source": [
    "- Le web scraping avec Python: https://realpython.com/beautiful-soup-web-scraper-python/\n",
    "- Tutoriel sur les expressions régulières: https://www.w3schools.com/python/python_regex.asp"
   ]
  }
 ],
 "metadata": {
  "kernelspec": {
   "display_name": "tac_venv",
   "language": "python",
   "name": "python3"
  },
  "language_info": {
   "codemirror_mode": {
    "name": "ipython",
    "version": 3
   },
   "file_extension": ".py",
   "mimetype": "text/x-python",
   "name": "python",
   "nbconvert_exporter": "python",
   "pygments_lexer": "ipython3",
   "version": "3.11.2"
  }
 },
 "nbformat": 4,
 "nbformat_minor": 4
}
