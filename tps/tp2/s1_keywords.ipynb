{
 "cells": [
  {
   "cell_type": "markdown",
   "metadata": {},
   "source": [
    "# Extraction de Keywords"
   ]
  },
  {
   "cell_type": "markdown",
   "metadata": {},
   "source": [
    "## Imports"
   ]
  },
  {
   "cell_type": "code",
   "execution_count": 2,
   "metadata": {},
   "outputs": [],
   "source": [
    "import os\n",
    "import yake"
   ]
  },
  {
   "cell_type": "markdown",
   "metadata": {},
   "source": [
    "## Extraire les mots clés d'un document avec Yake"
   ]
  },
  {
   "cell_type": "markdown",
   "metadata": {},
   "source": [
    "https://github.com/LIAAD/yake"
   ]
  },
  {
   "cell_type": "code",
   "execution_count": 3,
   "metadata": {},
   "outputs": [
    {
     "data": {
      "text/plain": [
       "<yake.yake.KeywordExtractor at 0x7fa32d2ac4d0>"
      ]
     },
     "execution_count": 3,
     "metadata": {},
     "output_type": "execute_result"
    }
   ],
   "source": [
    "# Instantier l'extracteur de mots clés\n",
    "kw_extractor = yake.KeywordExtractor(lan=\"fr\", top=50)\n",
    "kw_extractor"
   ]
  },
  {
   "cell_type": "code",
   "execution_count": 4,
   "metadata": {},
   "outputs": [],
   "source": [
    "# Lister les Fichiers d'un année\n",
    "data_path = \"../data/txt/\"\n",
    "année = 1914 # Début du 1ère guerre\n",
    "files = [f for f in os.listdir(data_path) if f.endswith('.txt') and str(année) in f]"
   ]
  },
  {
   "cell_type": "code",
   "execution_count": 5,
   "metadata": {},
   "outputs": [
    {
     "data": {
      "text/plain": [
       "100"
      ]
     },
     "execution_count": 5,
     "metadata": {},
     "output_type": "execute_result"
    }
   ],
   "source": [
    "# Imprimer le nombre de fichiers identifiés\n",
    "len(files)"
   ]
  },
  {
   "cell_type": "code",
   "execution_count": 6,
   "metadata": {},
   "outputs": [
    {
     "data": {
      "text/plain": [
       "['KB_JB838_1914-08-08_01-00004.txt',\n",
       " 'KB_JB838_1914-01-29_01-00009.txt',\n",
       " 'KB_JB838_1914-05-27_01-00001.txt',\n",
       " 'KB_JB838_1914-01-17_01-00004.txt',\n",
       " 'KB_JB838_1914-08-09_01-00001.txt',\n",
       " 'KB_JB838_1914-06-30_01-00008.txt',\n",
       " 'KB_JB838_1914-03-04_01-00001.txt',\n",
       " 'KB_JB838_1914-07-07_01-00004.txt',\n",
       " 'KB_JB838_1914-06-22_01-00001.txt',\n",
       " 'KB_JB838_1914-02-15_01-00003.txt',\n",
       " 'KB_JB838_1914-02-20_01-00004.txt',\n",
       " 'KB_JB838_1914-01-15_01-00002.txt',\n",
       " 'KB_JB838_1914-04-13_01-00002.txt',\n",
       " 'KB_JB838_1914-06-28_01-00007.txt',\n",
       " 'KB_JB838_1914-08-15_01-00003.txt']"
      ]
     },
     "execution_count": 6,
     "metadata": {},
     "output_type": "execute_result"
    }
   ],
   "source": [
    "# Les quinze premiers fichiers\n",
    "files[:15]"
   ]
  },
  {
   "cell_type": "code",
   "execution_count": 7,
   "metadata": {},
   "outputs": [
    {
     "data": {
      "text/plain": [
       "'KB_JB838_1914-08-08_01-00004.txt'"
      ]
     },
     "execution_count": 7,
     "metadata": {},
     "output_type": "execute_result"
    }
   ],
   "source": [
    "# Choisir un fichier\n",
    "this_file = files[0]\n",
    "this_file"
   ]
  },
  {
   "cell_type": "code",
   "execution_count": 8,
   "metadata": {},
   "outputs": [
    {
     "data": {
      "text/plain": [
       "\"\\\\h' •• w OBJ. ’ERDÜS C ent francs da réeomp. & aol rapportera un petit griffon perdu. 16. rue de la. Buanderie, 26. 1661 [père d’on solda* de la if--tarais. de Liège a per- «a Jeudi mat. lettre de ton fila. Bapport. eoat. b. réo. 27. rue da Cornet. *L 1631 La Tuberculose (PHTISIE) peut être guérie ENSEIGNER!. Tiutltut St-Jasque* plaoe J. St-Jaoquea 16, Liège, • Int. et ut o. jeunes flllesi prépar, A l'UnlversItéi ré* pit. p. Jaunes filles fréq. Université, Les 7 élèV. de rinsL présent, aux diffé\""
      ]
     },
     "execution_count": 8,
     "metadata": {},
     "output_type": "execute_result"
    }
   ],
   "source": [
    "# Récupérer le texte du fichier\n",
    "text = open(os.path.join(data_path, this_file), 'r', encoding='utf-8').read()\n",
    "text[:500]"
   ]
  },
  {
   "cell_type": "code",
   "execution_count": 9,
   "metadata": {},
   "outputs": [
    {
     "data": {
      "text/plain": [
       "[('rue', 0.0022013887754720705),\n",
       " ('dem', 0.005561800218395068),\n",
       " ('louer', 0.012416659549720094),\n",
       " ('MAISON', 0.015021848482334272),\n",
       " ('Bruxelles', 0.015702943626926768),\n",
       " ('faire', 0.01855466383645983),\n",
       " ('prix', 0.022443532905434573),\n",
       " ('bon', 0.02489747369691243),\n",
       " ('vend', 0.02953632631071371),\n",
       " ('RUE VAN', 0.030961673859576305),\n",
       " ('rue Bruxelles', 0.03196318384339195),\n",
       " ('ans', 0.032742125241965354),\n",
       " ('rne', 0.03417822216904537),\n",
       " ('traitement', 0.03580353971848969),\n",
       " ('dem.', 0.038232737127599274),\n",
       " ('DEMANDE', 0.04001685269619698),\n",
       " ('francs', 0.04242772518788486),\n",
       " ('VENDRE', 0.04515502729396427),\n",
       " ('place', 0.046041995791105364),\n",
       " ('RUE ROYALE', 0.046580155820166225),\n",
       " ('RUE VAN ARTE', 0.04977601687990171),\n",
       " ('Rossel', 0.05104060962447355),\n",
       " ('fille', 0.05155480705983796),\n",
       " ('fem. dem', 0.05268023289824644),\n",
       " ('avenue', 0.05488156023234906),\n",
       " ('Midi', 0.056210845728508665),\n",
       " ('oiffeur dem', 0.05910417551847343),\n",
       " ('rue Verte', 0.06407825977906727),\n",
       " ('louer maison', 0.06410865233288),\n",
       " ('OBJ', 0.0665093909900985),\n",
       " ('fille demande place', 0.06993630189644473),\n",
       " ('Tne fille', 0.07273323388052408),\n",
       " ('bons', 0.07469242109073729),\n",
       " ('rue Progrès', 0.07607260106736975),\n",
       " ('louer maison moderne', 0.07654463183770835),\n",
       " ('SUITE', 0.07701765940933243),\n",
       " ('pension', 0.07838968529572506),\n",
       " ('garni', 0.07989472337662504),\n",
       " ('ruo', 0.08024165450251675),\n",
       " ('rue Neuve', 0.08079327877418988),\n",
       " ('Jour', 0.08127642980318227),\n",
       " (\"l'Agence RosseL Bruxelles\", 0.08146163639704866),\n",
       " ('Van', 0.08277792425237429),\n",
       " ('dés', 0.08278015081729709),\n",
       " ('fil', 0.08285944158638348),\n",
       " ('rue Bro', 0.08498173586517477),\n",
       " ('Agence Rossel', 0.08508826867768593),\n",
       " ('RosseL Bruxelles', 0.085241139967667),\n",
       " ('rue Fin', 0.0854161332199024),\n",
       " ('rue Josaphat', 0.08552793695231696)]"
      ]
     },
     "execution_count": 9,
     "metadata": {},
     "output_type": "execute_result"
    }
   ],
   "source": [
    "# Extraire les mots clés de ce texte\n",
    "keywords = kw_extractor.extract_keywords(text)\n",
    "keywords"
   ]
  },
  {
   "cell_type": "code",
   "execution_count": 10,
   "metadata": {},
   "outputs": [
    {
     "data": {
      "text/plain": [
       "['RUE VAN',\n",
       " 'rue Bruxelles',\n",
       " 'RUE ROYALE',\n",
       " 'RUE VAN ARTE',\n",
       " 'fem. dem',\n",
       " 'oiffeur dem',\n",
       " 'rue Verte',\n",
       " 'louer maison',\n",
       " 'fille demande place',\n",
       " 'Tne fille',\n",
       " 'rue Progrès',\n",
       " 'louer maison moderne',\n",
       " 'rue Neuve',\n",
       " \"l'Agence RosseL Bruxelles\",\n",
       " 'rue Bro',\n",
       " 'Agence Rossel',\n",
       " 'RosseL Bruxelles',\n",
       " 'rue Fin',\n",
       " 'rue Josaphat']"
      ]
     },
     "execution_count": 10,
     "metadata": {},
     "output_type": "execute_result"
    }
   ],
   "source": [
    "# Ne garder que les bigrammes\n",
    "kept = []\n",
    "for kw, score in keywords:\n",
    "    words = kw.split()\n",
    "    if len(words) >= 2:\n",
    "        kept.append(kw)\n",
    "kept"
   ]
  },
  {
   "cell_type": "markdown",
   "metadata": {},
   "source": [
    "## Faire la même opération sur tous les documents"
   ]
  },
  {
   "cell_type": "code",
   "execution_count": 12,
   "metadata": {},
   "outputs": [
    {
     "name": "stdout",
     "output_type": "stream",
     "text": [
      "KB_JB838_1914-01-01_01-00004.txt mentions these keywords: Fragson venait, plus grande, plus fie, plus meurtrière, rte plus...\n",
      "KB_JB838_1914-01-02_01-00007.txt mentions these keywords: Agence Rossel, demande JEUNE, dem. fem, l’Agence Rossel, SERVEUSE Rue, ETRENNES UTILES, rue Jourdan, DEMANDE bon, RUE NEUVE, traitement Initial, Agence Rossai, demande faire...\n",
      "KB_JB838_1914-01-10_01-00004.txt mentions these keywords: JANVIH Caleris, Congo paris, VENTE PUBLIQUE, Congo Belge, Froment blanc...\n",
      "KB_JB838_1914-01-14_01-00008.txt mentions these keywords: Envol franco, Menthe Gripekoven, Charbon Gripekoven, dentifrice Rhelngold, chaux granulé, CHAUX GRIPEKOVEN, QUINQUINA GRIPEKOVEN, GRIPEKOVEN C’est, maux d’estomac, GRANULES GRIPEKOVEN, lithine granulée...\n",
      "KB_JB838_1914-01-15_01-00002.txt mentions these keywords: loi scolaire, centime additionnel, Parlement belge, maison Krupp, instituteurs libres, Seconde Chambre...\n",
      "KB_JB838_1914-01-16_01-00003.txt mentions these keywords: DERNIERE HEU, Mme Sarah, séries suivantes, Société générale, YarmoaÊta DERNIERE, hier soir...\n",
      "KB_JB838_1914-01-17_01-00004.txt mentions these keywords: nous prie, prie d’annoncer, présent avis, ’ttone oajfi, guér'ro’ vlont, tient lieu, avis tient, secret professionnel, nommé chef...\n",
      "KB_JB838_1914-01-21_01-00002.txt mentions these keywords: Prénoms nngiafa, général Picquart, Vite Briffaut, Chambre belge, colonie grecque...\n",
      "KB_JB838_1914-01-25_01-00007.txt mentions these keywords: Ledit notaire, Belle maison, sise rue, rentier rue, notaire VAN, notaire vendra, BRUXELLES Lot, rue Fossé-aux, notaire JACOBS, rue Van...\n",
      "KB_JB838_1914-01-29_01-00009.txt mentions these keywords: bon état, Agence Rossel, rue Royale, rue Van, bon piano, Prix modéré, BLEUE Placé, Placé Roappe, bas prix, moitié prix, rlohe piano, parfait état...\n",
      "KB_JB838_1914-01-31_01-00009.txt mentions these keywords: Agence Rossel, rue Royale, Prix modéré, bon état, bon piano, bons pianos, Piano Ire, rue Neuve, Retards Accoucheuse, Accoucheuse Pension, bas prix, prix vendre, rue Van...\n",
      "KB_JB838_1914-02-03_01-00006.txt mentions these keywords: Agence Rossel, Grande Pharmacie, louer belle, rue Van, Charcuterie dem, rue Stévin...\n",
      "KB_JB838_1914-02-05_01-00008.txt mentions these keywords: Agence Rossel, Prix modéré, rue Royale, bas prix, rue Chartreux, rue Neuve, Retards Accoucheuse, bon état...\n",
      "KB_JB838_1914-02-06_01-00002.txt mentions these keywords: l’abbé Daens, LOI SCOLAIRE, Justice sociale, qu’il n’y, c’est qu’il, convictions religieuses, école qu’il, grandes écoles...\n",
      "KB_JB838_1914-02-06_01-00010.txt mentions these keywords: Prix modéré, Rue Neuve, Accoucheuse Pension, Retards Accoucheuse, Rue Jolly, objets d’art, PIANO Occasion, AUTO PIANO, AUTOS PIANOS...\n",
      "KB_JB838_1914-02-09_01-00006.txt mentions these keywords: Agence Bossel, rue Royale, bas prix, Prix modéré, Rue Van, rue Neuve, DENTS IMPORTANT, rue Masui, d'une pièoo, leicataloguô illustré, HAUT PRIX, Van Artevelde...\n",
      "KB_JB838_1914-02-11_01-00007.txt mentions these keywords: Agence Rossel, garçon courses, louer chamb, bonnes ouvrières, RUE NEUVE...\n",
      "KB_JB838_1914-02-13_01-00008.txt mentions these keywords: Agence Rossel, jne fille, fille dés., fille dem., Tne fille, dem. serv, rue Rogier, filles dem...\n",
      "KB_JB838_1914-02-15_01-00003.txt mentions these keywords: Roger Bacon, GRANDS MAGASINS, Hier soir, France Paris, GRANDE MAISON, Série Série, Van Dyck, Emile Prum...\n",
      "KB_JB838_1914-02-15_01-00004.txt mentions these keywords: Mars manque, Brazil Traction...\n",
      "KB_JB838_1914-02-20_01-00004.txt mentions these keywords: Alost L’examen, Blanche Julliard, rue Royale...\n",
      "KB_JB838_1914-02-22_01-00005.txt mentions these keywords: c’est grand, père Torcy, C’est vrai, docteur Millot...\n",
      "KB_JB838_1914-03-02_01-00005.txt mentions these keywords: BULLETIN FINANCIER, belle maison, Notaire Van, située rue, teiêresY Réponse, Suc.et Raff, parts fond...\n",
      "KB_JB838_1914-03-04_01-00001.txt mentions these keywords: eau tombée, propre Justice, justice sociale, faire justice, l’Etat belge, faire intervenir, justice serait, Monsieur Punch, Congo belge...\n",
      "KB_JB838_1914-03-04_01-00006.txt mentions these keywords: Pilules Orientales, RUE VAN, Emulsion SCOTT, proviennent dune, dune nutrition, nutrition défectueuse, VOIES URINAIRES, Midi Bruxelles, rue Possé, rue Brogniet, VAN ARTE, rue Pierre...\n",
      "KB_JB838_1914-03-06_01-00006.txt mentions these keywords: Agence Rossel, louer bel, louer app., louer pet, louer rue, rue Van, bel appart...\n",
      "KB_JB838_1914-03-09_01-00006.txt mentions these keywords: Agence Rossel, Prix modéré, rue Royale, RUE VAN, rue Neuve, rue Botanique, demande piano, bon prix...\n",
      "KB_JB838_1914-03-16_01-00003.txt mentions these keywords: Pari mutuel, Van Bever, Van Cant, HOLLANDAIS Belgique, Van Houwaert, comte Witte, Van Ginkel, Van Hoorden, demeurant rue, Samedi soir, rue Van, roi Louis, keeper hollandais...\n",
      "KB_JB838_1914-03-19_01-00005.txt mentions these keywords: Mars manque, mars Terme, Mars Théâtres, übosch ast.tffffttïée, Van Nehe, Mars Franco...\n",
      "KB_JB838_1914-03-20_01-00004.txt mentions these keywords: parcours terrestre, escales obligatoires, Mars manque, mars inclus, Hélène Ardouin, Mrs Buchanan, jeune fille...\n",
      "KB_JB838_1914-03-21_01-00004.txt mentions these keywords: Pari mutuel, frontières gardées, fours frontières, hier soir...\n",
      "KB_JB838_1914-03-21_01-00007.txt mentions these keywords: Agence Rossel, louer maison, rue Neuve, rue Royale, louer bel, grande maison, louer beau, guérison complète, Bel appart, louer appart...\n",
      "KB_JB838_1914-03-31_01-00008.txt mentions these keywords: rue Van, van Prix, bon état, bons pianos, rue Vanderlinden, rue Vnn...\n",
      "KB_JB838_1914-04-02_01-00008.txt mentions these keywords: Ecolo moyenne, Section préparai, Section préparât, Section supérieure, Athénée roÿal, supérieure D.elsai, LOUER belles, louer bel, belles maisons, belle maison, prix mod, maison moderne, louer rue, louer maison...\n",
      "KB_JB838_1914-04-04_01-00001.txt mentions these keywords: eau tombée, d’une bonne, d’une ville, c’est peut-être, d’une société, Société d’études...\n",
      "KB_JB838_1914-04-04_01-00003.txt mentions these keywords: Paul Heyse, loi scolaire, commission d’enquête, Chambre PARIS, écoles libres...\n",
      "KB_JB838_1914-04-05_01-00014.txt mentions these keywords: OCCASIONS SPÉCIALES, Neuve Chaussée, Rue Neuve, rue Van, BRUXELLES Maison, Chapeaux der, DÉS OCCASIONS, Chaussée d’Ixelles, d’Ixelles BRUXELLES, Maison vendant, Maison Commu, RUE VAM, ommunlonj Sapurboa, der nière, Sapurboa montres, AMOÊntCKITf BRUXELLES...\n",
      "KB_JB838_1914-04-08_01-00005.txt mentions these keywords: Agence Rossel, louer bel, louer maison, louer appart...\n",
      "KB_JB838_1914-04-08_01-00007.txt mentions these keywords: Tne fille, Huile DELFIA, Agence Rossel, jne fille, dem. bon, bons gag, fille dem, fille dés., bons gages, SOlft Huile, ceite huile, DELFIA SUJETS, jeune fille...\n",
      "KB_JB838_1914-04-09_01-00001.txt mentions these keywords: eau tombée, ANNÉE JEUDI, Mais c’est, grande fête, hier soir...\n",
      "KB_JB838_1914-04-09_01-00011.txt mentions these keywords: Agence Rossel, rue Neuve, haut prix, prix mod, bon état, bon piano, rue Washington, rue Royale, rue Foppens, piano Klein...\n",
      "KB_JB838_1914-04-13_01-00002.txt mentions these keywords: Parti socialiste, grève générale, Banque Nationale, Éife ttAVUL, Parti Ouvrier, Van Belle, l’Union Latine, socialiste belge...\n",
      "KB_JB838_1914-04-14_01-00003.txt mentions these keywords: South Bank, Pari mutuel, FOOTBALL CLUB, goal allemand, DEUXIEME JOURNEE, TOURNOI INTERNATIONAL, van der, JOURNEE TOURNOI, demeurant rue, PREMIERE JOURNEE...\n",
      "KB_JB838_1914-04-14_01-00004.txt mentions these keywords: Belle maison, sise rue, Notaire Van, Yan Laere, Vente retirée, Yan Eetvelde, bonne maison, Fernand Forest, rue Jolly...\n",
      "KB_JB838_1914-04-21_01-00007.txt mentions these keywords: demande fille, jeune fille, dem. bon, dem. serv, jne fille, rue Royale, demande jeune, dem. fem, Agence Rossel, dem. serv., fille dem, fille dés, bon ouvrier...\n",
      "KB_JB838_1914-04-26_01-00001.txt mentions these keywords: eau tombée, directeur général, secrétaire général, d’une femme, c’est d’une, concours seraient...\n",
      "KB_JB838_1914-04-29_01-00008.txt mentions these keywords: Agence Rossel, rue Royale, rue Botanique, bon piano, rue Verte, Bas Prix, Prix modéré...\n",
      "KB_JB838_1914-04-30_01-00005.txt mentions these keywords: cont. vol., Flamand André, DEUXBEME ÉTAPE, Biaise André, Petitjean Louis, Dethier Victor, Meck Jacob, Haidon Charles, Billiet Hector, Heusghem Hector, DOMS VICTOR, Robert Edmond, Allard Henri...\n",
      "KB_JB838_1914-04-30_01-00008.txt mentions these keywords: louer bel, Agence Rossel, louer bel., louer quart, maison Agi, Bel appart, rue Royale, louer app, prix mod...\n",
      "KB_JB838_1914-05-08_01-00003.txt mentions these keywords: Pari mutuel, heure belge, Paris Paris, Français résidant, Adolphe Leclercq, D’autre part...\n",
      "KB_JB838_1914-05-10_01-00016.txt mentions these keywords: rue Royale, Bruxelles Moire, Moire Cape, Cape Sporting, rue César, ÉMAILLÉES DINSING, BRUXELLES Télép, CREDIT ATOL, FLAMME RENVERSEE, CUISINIÈRES ÉMAILLÉES, MOOK.SS rue, VAl rue, rue desT, era-Conilquc chanté...\n",
      "KB_JB838_1914-05-13_01-00003.txt mentions these keywords: prix médaille, Concours Hippique, d’une valeur, prix normaux, rjNS illi’At, lre valoir, accident s’est...\n",
      "KB_JB838_1914-05-19_01-00004.txt mentions these keywords: Jean Poelasi, Van Houwaert, Mac Cabe, Prix Prix, Douglas Mac, mètres débutants, puis Van, Van Ysendyok...\n",
      "KB_JB838_1914-05-20_01-00003.txt mentions these keywords: Elisa Vandenhouden, Michiels fut, qu’il n’a, jeune Douglas, Hansi déclare, déclaré qu’il, Michiels n’a, mais c’est...\n",
      "KB_JB838_1914-05-20_01-00005.txt mentions these keywords: Konj oetsebaj, parts fond, Electr. cap, Dernier prix, belge cap...\n",
      "KB_JB838_1914-05-21_01-00005.txt mentions these keywords: Ire classe, l’école moyenne, machiniste instructeur, commis d’ordre, Van Lierde, vue vue, Nord Esp...\n",
      "KB_JB838_1914-05-22_01-00001.txt mentions these keywords: Ligue wallonne, C’est Léopold, grand Belge, grands Belges, Bruxelles d’un, eau tombée, Iwan Gilkin, Jeune Belgique, grand homme, grands hommes, d’autres Projets, Wilhelmus van, van Nassau...\n",
      "KB_JB838_1914-05-22_01-00002.txt mentions these keywords: c’est l’homme, casque sombre, casque bleu, Essad pacha, C’est ici, vingtième siècle, l’on n’est, Turkhan pacha...\n",
      "KB_JB838_1914-05-27_01-00001.txt mentions these keywords: Ondes hertziennes, petits Etats, eau tombée, PARIS Température, Bruxelles Bruxelles...\n",
      "KB_JB838_1914-05-27_01-00004.txt mentions these keywords: Mai Mai, Pilules Pink, PRINCE HENRI, s'étalent dépensés, dépensés largememt, Motor Union, mètres plat, Marché calme, Mai manque...\n",
      "KB_JB838_1914-05-28_01-00002.txt mentions these keywords: Congo belge...\n",
      "KB_JB838_1914-06-04_01-00007.txt mentions these keywords: Agence Rossel, jne fille, Tno fille, bons gages, DEMANDE fille, Tne fille, jno fille, fille dés., dem. fem, tont faire, dem. serv...\n",
      "KB_JB838_1914-06-07_01-00012.txt mentions these keywords: Belgique CRÊPONS, fond blanc, CRÊPONS D'ALSACE, nanzouck blanc, BLOUSE Nanzouck, BLOUSE crépon, blanc COSTUME, Aff Prix, impressions fleurettes, talons botte, GENTILLE ROBE, ROBE MOUSSELINE...\n",
      "KB_JB838_1914-06-12_01-00007.txt mentions these keywords: Tne fille, Agence Rossel, Tne fem., fille dés., Tne fem, Anv gpaa, fem. dés, faire quart, fille dés, tont faire, dem. serv...\n",
      "KB_JB838_1914-06-14_01-00006.txt mentions these keywords: l’on place, Robert Domagne, jeune fille, faire lever, qu’il n’avait, l’on dispose, C’est faire, père qu’il, crème beurrée...\n",
      "KB_JB838_1914-06-22_01-00001.txt mentions these keywords: eau tombée, Qu’il nous, service militaire, c’est l'auto, qu’il n’est, peuple dépend, nous avons, nous dit-il...\n",
      "KB_JB838_1914-06-24_01-00002.txt mentions these keywords: NESTOR WILMART, Paul Wilmart, Bib Doda, Van Hentenryck, Van Bladel, ondes électriques, Durazzo Durazzo, prince Bib, Wilmart proteste, troupes gouvernementales...\n",
      "KB_JB838_1914-06-24_01-00006.txt mentions these keywords: Agence Rossel, rue Neuve, rue Delaunoy, louer bel, louer vaste, grande maison, louer pet, QIR Madame, Madame Alph...\n",
      "KB_JB838_1914-06-28_01-00007.txt mentions these keywords: BELLE MAISON, ledit notaire, Bruxelles rue, BELLES MAISONS, notaire VAN, commerce maison, notaire JACOBS, notaire vendra, BRUXELLES Lot, BONNE MAISON, NOTAIRES Etudes...\n",
      "KB_JB838_1914-06-29_01-00002.txt mentions these keywords: LOI SCOLAIRE, œuvres scolaires, Jules Thiriar, écoles communales, écoles libres, Talaat bey, question scolaire...\n",
      "KB_JB838_1914-06-30_01-00008.txt mentions these keywords: bon état, rue Royale, bon piano, HAUT PRIX, bas prix, ruo Van, prix mod...\n",
      "KB_JB838_1914-07-01_01-00002.txt mentions these keywords: Serajevo Serajevo, Vienne Serajevo, l’archiduc Charles, l’archiduc François-Ferdinand, deviendra emént, faiblement visible, Magasins serbes...\n",
      "KB_JB838_1914-07-03_01-00005.txt mentions these keywords: Louis XVIII, fer Brésil, Tramways cap, 63-70 rlOO...\n",
      "KB_JB838_1914-07-05_01-00005.txt mentions these keywords: lady Suzanne, lord Robert, roui poqrte, Mrs Riddell, d’un banquier, Robert Aylmer, petite fille...\n",
      "KB_JB838_1914-07-07_01-00004.txt mentions these keywords: BULLETIN FINANCIER, Louis XVIII, vue vue, parts fond, Liège ord, fer Brésil, FINANCIER Bourse...\n",
      "KB_JB838_1914-07-08_01-00002.txt mentions these keywords: rue Royale, représentation dramatique, Société royale, Théâtre royal, Entrée gratuite, Théâtre Flamand, grande fête, rue Ravenstein, Place Sainte-Catherine, rue Terarken, concert extraordinaire, Wilmart m’a...\n",
      "KB_JB838_1914-07-09_01-00008.txt mentions these keywords: Rue Van, Agence Rossei, rue Henri, dem. fem, oiffeur dem, fin dem, Agence Rosscl...\n",
      "KB_JB838_1914-07-10_01-00003.txt mentions these keywords: Jeune homme, hier soir, crédits militaires, Méditerranée Paris, l’armée russe...\n",
      "KB_JB838_1914-07-12_01-00009.txt mentions these keywords: Agence Rossel, louer bel, louer maison, louer vaste, LOUER Mais., louer rue, rue Emile, belle maison, louer belle, bel app...\n",
      "KB_JB838_1914-07-13_01-00002.txt mentions these keywords: Cambre C’est, Coigny C’est, Ligne Catherine, c’est qu’il, c’est Catherine, Roi fut...\n",
      "KB_JB838_1914-07-18_01-00007.txt mentions these keywords: Agence Rossel, dem. fem, dem. bon, rue Van, rue Rogier, demande bon, rue Neuve, oiffeur dem, Bruxelles dem, Bons gages, Coiffeur demande...\n",
      "KB_JB838_1914-07-19_01-00010.txt mentions these keywords: DEMANDE VOYÂOEUBS, jeune fille, jne fille, dem fille, demande Jeune, bons gages, demande bonne, fille dem, DEMANDE rue, demande fille, forte fille, IMPORTANTE BRASSERIE, Agence Rossei, DEMANDE Bon, dem. serv, VOYÂOEUBS connaissant, Faire offres...\n",
      "KB_JB838_1914-07-21_01-00001.txt mentions these keywords: Grand Bazar, eau tombée, Bazar Européen, ANNÉE MARDI, l'agglomération bruxeliolse...\n",
      "KB_JB838_1914-07-22_01-00003.txt mentions these keywords: Pari mutuel, fêtes nationales, thé Royal...\n",
      "KB_JB838_1914-07-23_01-00006.txt mentions these keywords: ALIMENT COMPLETA, EMPLOYE LAGHATIANA, rue Royale, Agence Rossel, louer rue, louer vaste, louer maison, PRODUIT IDEAL, COMPLETA goût, rue Heyvaert...\n",
      "KB_JB838_1914-07-25_01-00003.txt mentions these keywords: gouvernement serbe, gouvernement royal, gouvernement impérial, royal serbe, gouvernement austro-hongrois, rapport Fabre, note autrichienne, fonctionnaires serbes, Albert Calmette, Serbie s’est, Milan Ciganovic...\n",
      "KB_JB838_1914-07-26_01-00002.txt mentions these keywords: Mme Gueydan, Mme Caillaux, Toys les-ans, Leemesures d’organisation, sir Francis, Francis Hyde, Labori propose, rapport Fabre, Sir Vansittart, Hyde Villiers...\n",
      "KB_JB838_1914-07-26_01-00005.txt mentions these keywords: jeune fille, Madame Mœkel, chien Rolf, traites fictives, d’un attentat, jeune Polonais, bonne heure, jeune homme, témoin d’un...\n",
      "KB_JB838_1914-07-26_01-00009.txt mentions these keywords: Agence Rossel, louer vaste...\n",
      "KB_JB838_1914-07-27_01-00004.txt mentions these keywords: Louis XVIII, vieux Roi, fit Louis, resta évanoui...\n",
      "KB_JB838_1914-07-28_01-00007.txt mentions these keywords: Agence Rossel, dem. fem, demande fille, jne fille, rue van, dem. bon, dem. serv, Agenoo Rossel, l’Agence Rossel, fem. dem...\n",
      "KB_JB838_1914-07-29_01-00005.txt mentions these keywords: Van Hevel, Pari mutuel, Van Raust, Jeune femme, jeunes filles, Jeune fille, Frank Moran, John Bull...\n",
      "KB_JB838_1914-07-30_01-00005.txt mentions these keywords: Peugeot III, Juillet France, marché libre, Terrot III, août manque, Motosacoche III, Douglas III...\n",
      "KB_JB838_1914-08-02_01-00005.txt mentions these keywords: Ledit notaire, BELLE MAISON, notaire VAN, Bruxelles rue, vente publique, notaire vendra...\n",
      "KB_JB838_1914-08-08_01-00004.txt mentions these keywords: RUE VAN, rue Bruxelles, RUE ROYALE, fem. dem, oiffeur dem, rue Verte, louer maison, Tne fille, rue Progrès, rue Neuve, rue Bro, Agence Rossel, RosseL Bruxelles, rue Fin, rue Josaphat...\n",
      "KB_JB838_1914-08-09_01-00001.txt mentions these keywords: gouvernement allemand, Edward Grey, gouvernement belge, iLr ABONNEMENTS, ministre d’Etat, Légion d’Honneur, roi Albert, l’armée belge, sir Edward, République française, iération bruxelloise, gouvernement serbe...\n",
      "KB_JB838_1914-08-09_01-00002.txt mentions these keywords: l’armée belge, soldat belge, soldats belges, peuple belge, L’armée allemande, Blessés belges, soldats allemands, troupes belges, Belges Paris, L’année belge, Liège Londres, militaire allemand, prisonniers allemands...\n",
      "KB_JB838_1914-08-11_01-00004.txt mentions these keywords: Mlle Jeanne, rue Royale, Agence Rossel, Mlle Samnél, Mlle Alice, Mlle René, Mlle Jaoqueljne, Mlle Benée, Mlle Inslegers, Mlle Lanre, Mlle Haméüne, Mlle Blndels, Mlle Madeleine...\n",
      "KB_JB838_1914-08-15_01-00003.txt mentions these keywords: gouvernement français, troupes allemandes, guerre allemands, navires allemands, navire ennemi, gouvernement austro-hongrois, gouvernement belge, prisonniers allemands, croiseurs allemands...\n",
      "KB_JB838_1914-08-20_01-00004.txt mentions these keywords: Agence Rossel, louer quart, Tne fille, rue Progrès, Prix modérés...\n"
     ]
    }
   ],
   "source": [
    "for f in sorted(files):\n",
    "    text = open(os.path.join(data_path, f), 'r', encoding=\"utf-8\").read()\n",
    "    keywords = kw_extractor.extract_keywords(text)\n",
    "    kept = []\n",
    "    for kw, score in keywords:\n",
    "        words = kw.split()\n",
    "        if len(words) == 2:\n",
    "            kept.append(kw)\n",
    "    print(f\"{f} mentions these keywords: {', '.join(kept)}...\")"
   ]
  }
 ],
 "metadata": {
  "kernelspec": {
   "display_name": "tac_venv",
   "language": "python",
   "name": "python3"
  },
  "language_info": {
   "codemirror_mode": {
    "name": "ipython",
    "version": 3
   },
   "file_extension": ".py",
   "mimetype": "text/x-python",
   "name": "python",
   "nbconvert_exporter": "python",
   "pygments_lexer": "ipython3",
   "version": "3.11.2"
  }
 },
 "nbformat": 4,
 "nbformat_minor": 4
}
