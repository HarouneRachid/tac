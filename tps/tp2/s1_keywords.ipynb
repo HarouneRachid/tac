{
 "cells": [
  {
   "cell_type": "markdown",
   "metadata": {},
   "source": [
    "# Extraction de Keywords"
   ]
  },
  {
   "cell_type": "markdown",
   "metadata": {},
   "source": [
    "## Imports"
   ]
  },
  {
   "cell_type": "code",
   "execution_count": 1,
   "metadata": {},
   "outputs": [],
   "source": [
    "import os\n",
    "import yake"
   ]
  },
  {
   "cell_type": "markdown",
   "metadata": {},
   "source": [
    "## Extraire les mots clés d'un document avec Yake"
   ]
  },
  {
   "cell_type": "markdown",
   "metadata": {},
   "source": [
    "https://github.com/LIAAD/yake"
   ]
  },
  {
   "cell_type": "code",
   "execution_count": 2,
   "metadata": {},
   "outputs": [
    {
     "data": {
      "text/plain": [
       "<yake.yake.KeywordExtractor at 0x7f9f381f0650>"
      ]
     },
     "execution_count": 2,
     "metadata": {},
     "output_type": "execute_result"
    }
   ],
   "source": [
    "# Instantier l'extracteur de mots clés\n",
    "kw_extractor = yake.KeywordExtractor(lan=\"fr\", top=50)\n",
    "kw_extractor"
   ]
  },
  {
   "cell_type": "code",
   "execution_count": 3,
   "metadata": {},
   "outputs": [],
   "source": [
    "# Lister les Fichiers d'un année\n",
    "data_path = \"../data/txt/\"\n",
    "année = 1914 # Début du 1ère guerre\n",
    "files = [f for f in os.listdir(data_path) if f.endswith('.txt') and str(année) in f]"
   ]
  },
  {
   "cell_type": "code",
   "execution_count": 4,
   "metadata": {},
   "outputs": [
    {
     "data": {
      "text/plain": [
       "100"
      ]
     },
     "execution_count": 4,
     "metadata": {},
     "output_type": "execute_result"
    }
   ],
   "source": [
    "# Imprimer le nombre de fichiers identifiés\n",
    "len(files)"
   ]
  },
  {
   "cell_type": "code",
   "execution_count": 5,
   "metadata": {},
   "outputs": [
    {
     "data": {
      "text/plain": [
       "['KB_JB838_1914-01-01_01-00004.txt',\n",
       " 'KB_JB838_1914-01-02_01-00007.txt',\n",
       " 'KB_JB838_1914-01-10_01-00004.txt',\n",
       " 'KB_JB838_1914-01-14_01-00008.txt',\n",
       " 'KB_JB838_1914-01-15_01-00002.txt',\n",
       " 'KB_JB838_1914-01-16_01-00003.txt',\n",
       " 'KB_JB838_1914-01-17_01-00004.txt',\n",
       " 'KB_JB838_1914-01-21_01-00002.txt',\n",
       " 'KB_JB838_1914-01-25_01-00007.txt',\n",
       " 'KB_JB838_1914-01-29_01-00009.txt',\n",
       " 'KB_JB838_1914-01-31_01-00009.txt',\n",
       " 'KB_JB838_1914-02-03_01-00006.txt',\n",
       " 'KB_JB838_1914-02-05_01-00008.txt',\n",
       " 'KB_JB838_1914-02-06_01-00002.txt',\n",
       " 'KB_JB838_1914-02-06_01-00010.txt']"
      ]
     },
     "execution_count": 5,
     "metadata": {},
     "output_type": "execute_result"
    }
   ],
   "source": [
    "# Les quinze premiers fichiers\n",
    "files[:15]"
   ]
  },
  {
   "cell_type": "code",
   "execution_count": 6,
   "metadata": {},
   "outputs": [
    {
     "data": {
      "text/plain": [
       "'KB_JB838_1914-01-01_01-00004.txt'"
      ]
     },
     "execution_count": 6,
     "metadata": {},
     "output_type": "execute_result"
    }
   ],
   "source": [
    "# Choisir un fichier\n",
    "this_file = files[0]\n",
    "this_file"
   ]
  },
  {
   "cell_type": "code",
   "execution_count": 7,
   "metadata": {},
   "outputs": [
    {
     "data": {
      "text/plain": [
       "\"tin drame de famille. — Tué,pâr:riJh père, • ^. ETCHARPE&. SKUN6S VERITABLES, ' Un‘des chanteurs français, lefi -jribs pôpu-.; 4#-cfiotx, &)%’mitais'; LILIV; m~, rivale, : ïàli^;-HtfiW'‘Pottî;i)lo?}cqnniuiço^^e.ift,€nf6j.ae.: c J ‘ ■ 1 - - * . * wiaw4 litni* /ïnr\\\\-û Æûa -nttf/irtïT^lJl^flC .1 1 • Fragson,* est mort liier,dans des cireaitatahces y ' tragiques. Il a été tué d’un coup de revolver !* ‘par son père, un vieillard;-de': 84 fttavfi’ant .^rftge-a altéré les facultés 1 meot&lesr ‘ ' ' 1 •\""
      ]
     },
     "execution_count": 7,
     "metadata": {},
     "output_type": "execute_result"
    }
   ],
   "source": [
    "# Récupérer le texte du fichier\n",
    "text = open(os.path.join(data_path, this_file), 'r', encoding='utf-8').read()\n",
    "text[:500]"
   ]
  },
  {
   "cell_type": "code",
   "execution_count": 8,
   "metadata": {},
   "outputs": [
    {
     "data": {
      "text/plain": [
       "[('plus', 0.007593456446449188),\n",
       " ('Fragson', 0.016342695515532517),\n",
       " ('rue', 0.01973847284767029),\n",
       " ('d’un', 0.02389225705047389),\n",
       " ('cours', 0.028980832696322963),\n",
       " ('Bruxelles', 0.02994084980379286),\n",
       " ('Fragson venait', 0.032834184789148506),\n",
       " ('ans', 0.035948724443032536),\n",
       " ('fie', 0.041130346004488325),\n",
       " ('c’est', 0.043858945341968415),\n",
       " ('faire', 0.04528196078835888),\n",
       " ('coup', 0.04556609873373244),\n",
       " ('revolver', 0.04663714214266274),\n",
       " ('plus grande', 0.04967223889655168),\n",
       " ('heures', 0.050143739599623115),\n",
       " ('père', 0.05197043733964806),\n",
       " ('fut', 0.052240465299431216),\n",
       " ('mort', 0.05290047876636609),\n",
       " ('neige', 0.053183937238560824),\n",
       " ('fils', 0.053367457624742126),\n",
       " ('d’une', 0.055700113931278404),\n",
       " ('qu’il', 0.057034722294356924),\n",
       " ('plus fie', 0.060970983251450415),\n",
       " ('Siilt rte plus', 0.06168470925474065),\n",
       " ('cours d’une école', 0.06219137001462371),\n",
       " ('venait', 0.06284333414803449),\n",
       " ('hier', 0.06497435684920899),\n",
       " ('plus meurtrière', 0.06576206876797375),\n",
       " ('janvier', 0.06694922460399771),\n",
       " ('mande', 0.06696678972578372),\n",
       " ('s’est', 0.0692595344550467),\n",
       " ('étoiles', 0.07075522800920157),\n",
       " ('d’un cours colonial', 0.07213384557885023),\n",
       " ('sortie d’un cours', 0.07237934712785542),\n",
       " ('vieillard', 0.07320040510367938),\n",
       " ('dtentant plus fie', 0.07382850346488173),\n",
       " ('plus fie ténacjtè', 0.07382850346488173),\n",
       " ('Fragson venait d’être', 0.07523223050938498),\n",
       " ('rue fin Marché', 0.07566767991626754),\n",
       " ('tué d’un coup', 0.07576508276245773),\n",
       " ('drame', 0.07783519093399692),\n",
       " ('blessé', 0.08016662428617181),\n",
       " ('rte plus', 0.0839319620400548),\n",
       " ('fie sortie d’un', 0.08482750081062126),\n",
       " ('agents', 0.08559774701371754),\n",
       " ('plus grande couveuse', 0.08577519908317957),\n",
       " ('coloniale', 0.08592443433250499),\n",
       " ('âgé', 0.08625065710006986),\n",
       " ('plu', 0.08732474913416566),\n",
       " ('rte', 0.08867230671011866)]"
      ]
     },
     "execution_count": 8,
     "metadata": {},
     "output_type": "execute_result"
    }
   ],
   "source": [
    "# Extraire les mots clés de ce texte\n",
    "keywords = kw_extractor.extract_keywords(text)\n",
    "keywords"
   ]
  },
  {
   "cell_type": "code",
   "execution_count": 9,
   "metadata": {},
   "outputs": [
    {
     "data": {
      "text/plain": [
       "['Fragson venait',\n",
       " 'plus grande',\n",
       " 'plus fie',\n",
       " 'Siilt rte plus',\n",
       " 'cours d’une école',\n",
       " 'plus meurtrière',\n",
       " 'd’un cours colonial',\n",
       " 'sortie d’un cours',\n",
       " 'dtentant plus fie',\n",
       " 'plus fie ténacjtè',\n",
       " 'Fragson venait d’être',\n",
       " 'rue fin Marché',\n",
       " 'tué d’un coup',\n",
       " 'rte plus',\n",
       " 'fie sortie d’un',\n",
       " 'plus grande couveuse']"
      ]
     },
     "execution_count": 9,
     "metadata": {},
     "output_type": "execute_result"
    }
   ],
   "source": [
    "# Ne garder que les bigrammes\n",
    "kept = []\n",
    "for kw, score in keywords:\n",
    "    words = kw.split()\n",
    "    if len(words) >= 2:\n",
    "        kept.append(kw)\n",
    "kept"
   ]
  },
  {
   "cell_type": "markdown",
   "metadata": {},
   "source": [
    "## Faire la même opération sur tous les documents"
   ]
  },
  {
   "cell_type": "code",
   "execution_count": 11,
   "metadata": {},
   "outputs": [
    {
     "name": "stdout",
     "output_type": "stream",
     "text": [
      "KB_JB838_1914-01-02_01-00007.txt mentions these keywords: Agence Rossel, demande JEUNE, dem. fem, l’Agence Rossel, SERVEUSE Rue, ETRENNES UTILES, rue Jourdan, DEMANDE bon, RUE NEUVE, traitement Initial, Agence Rossai, demande faire...\n",
      "KB_JB838_1914-01-10_01-00004.txt mentions these keywords: JANVIH Caleris, Congo paris, VENTE PUBLIQUE, Congo Belge, Froment blanc...\n",
      "KB_JB838_1914-01-14_01-00008.txt mentions these keywords: Envol franco, Menthe Gripekoven, Charbon Gripekoven, dentifrice Rhelngold, chaux granulé, CHAUX GRIPEKOVEN, QUINQUINA GRIPEKOVEN, GRIPEKOVEN C’est, maux d’estomac, GRANULES GRIPEKOVEN, lithine granulée...\n",
      "KB_JB838_1914-01-15_01-00002.txt mentions these keywords: loi scolaire, centime additionnel, Parlement belge, maison Krupp, instituteurs libres, Seconde Chambre...\n",
      "KB_JB838_1914-01-16_01-00003.txt mentions these keywords: DERNIERE HEU, Mme Sarah, séries suivantes, Société générale, YarmoaÊta DERNIERE, hier soir...\n",
      "KB_JB838_1914-01-17_01-00004.txt mentions these keywords: nous prie, prie d’annoncer, présent avis, ’ttone oajfi, guér'ro’ vlont, tient lieu, avis tient, secret professionnel, nommé chef...\n",
      "KB_JB838_1914-01-21_01-00002.txt mentions these keywords: Prénoms nngiafa, général Picquart, Vite Briffaut, Chambre belge, colonie grecque...\n",
      "KB_JB838_1914-01-25_01-00007.txt mentions these keywords: Ledit notaire, Belle maison, sise rue, rentier rue, notaire VAN, notaire vendra, BRUXELLES Lot, rue Fossé-aux, notaire JACOBS, rue Van...\n",
      "KB_JB838_1914-01-29_01-00009.txt mentions these keywords: bon état, Agence Rossel, rue Royale, rue Van, bon piano, Prix modéré, BLEUE Placé, Placé Roappe, bas prix, moitié prix, rlohe piano, parfait état...\n",
      "KB_JB838_1914-01-31_01-00009.txt mentions these keywords: Agence Rossel, rue Royale, Prix modéré, bon état, bon piano, bons pianos, Piano Ire, rue Neuve, Retards Accoucheuse, Accoucheuse Pension, bas prix, prix vendre, rue Van...\n",
      "KB_JB838_1914-02-03_01-00006.txt mentions these keywords: Agence Rossel, Grande Pharmacie, louer belle, rue Van, Charcuterie dem, rue Stévin...\n",
      "KB_JB838_1914-02-05_01-00008.txt mentions these keywords: Agence Rossel, Prix modéré, rue Royale, bas prix, rue Chartreux, rue Neuve, Retards Accoucheuse, bon état...\n",
      "KB_JB838_1914-02-06_01-00002.txt mentions these keywords: l’abbé Daens, LOI SCOLAIRE, Justice sociale, qu’il n’y, c’est qu’il, convictions religieuses, école qu’il, grandes écoles...\n",
      "KB_JB838_1914-02-06_01-00010.txt mentions these keywords: Prix modéré, Rue Neuve, Accoucheuse Pension, Retards Accoucheuse, Rue Jolly, objets d’art, PIANO Occasion, AUTO PIANO, AUTOS PIANOS...\n"
     ]
    }
   ],
   "source": [
    "for f in sorted(files)[1:15]:\n",
    "    text = open(os.path.join(data_path, f), 'r', encoding=\"utf-8\").read()\n",
    "    keywords = kw_extractor.extract_keywords(text)\n",
    "    kept = []\n",
    "    for kw, score in keywords:\n",
    "        words = kw.split()\n",
    "        if len(words) == 2:\n",
    "            kept.append(kw)\n",
    "    print(f\"{f} mentions these keywords: {', '.join(kept)}...\")"
   ]
  }
 ],
 "metadata": {
  "kernelspec": {
   "display_name": "tac_venv",
   "language": "python",
   "name": "python3"
  },
  "language_info": {
   "codemirror_mode": {
    "name": "ipython",
    "version": 3
   },
   "file_extension": ".py",
   "mimetype": "text/x-python",
   "name": "python",
   "nbconvert_exporter": "python",
   "pygments_lexer": "ipython3",
   "version": "3.11.2"
  }
 },
 "nbformat": 4,
 "nbformat_minor": 4
}
